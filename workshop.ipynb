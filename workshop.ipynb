{
  "nbformat": 4,
  "nbformat_minor": 0,
  "metadata": {
    "colab": {
      "name": "workshop.ipynb",
      "version": "0.3.2",
      "provenance": [],
      "include_colab_link": true
    },
    "kernelspec": {
      "name": "python3",
      "display_name": "Python 3"
    }
  },
  "cells": [
    {
      "cell_type": "markdown",
      "metadata": {
        "id": "view-in-github",
        "colab_type": "text"
      },
      "source": [
        "<a href=\"https://colab.research.google.com/github/John-Curcio/recommender-systems/blob/master/workshop.ipynb\" target=\"_parent\"><img src=\"https://colab.research.google.com/assets/colab-badge.svg\" alt=\"Open In Colab\"/></a>"
      ]
    },
    {
      "metadata": {
        "id": "jkdWhseBkoIG",
        "colab_type": "text"
      },
      "cell_type": "markdown",
      "source": [
        "If you're reading this, great! You've got all you need for the recommender systems workshop.\n",
        "\n",
        "This is a Jupyter notebook, which is a bunch of code \"cells\" which you can run interactively as if from a terminal. You can run cells by clicking that play-button-looking thing to the left of each cell, or just clicking Ctrl+Enter (on a PC).\n",
        "\n",
        "Note that memory persists between cells, and cells can be run in any order."
      ]
    },
    {
      "metadata": {
        "id": "VjFTVrp1kgLG",
        "colab_type": "code",
        "outputId": "76474f86-4d5d-4883-8888-8c464624add1",
        "colab": {
          "base_uri": "https://localhost:8080/",
          "height": 635
        }
      },
      "cell_type": "code",
      "source": [
        "# command line command for starting from scratch, in case you want to start over\n",
        "!rm -rf recommender-systems \n",
        "# command line command to update tensorflow and keras libraries\n",
        "!pip install numpy --upgrade\n",
        "!pip install pandas --upgrade\n",
        "!pip install tensorflow --upgrade \n",
        "!pip install keras --upgrade"
      ],
      "execution_count": 0,
      "outputs": [
        {
          "output_type": "stream",
          "text": [
            "Requirement already up-to-date: numpy in /usr/local/lib/python3.6/dist-packages (1.16.2)\n",
            "Requirement already up-to-date: pandas in /usr/local/lib/python3.6/dist-packages (0.24.2)\n",
            "Requirement already satisfied, skipping upgrade: numpy>=1.12.0 in /usr/local/lib/python3.6/dist-packages (from pandas) (1.16.2)\n",
            "Requirement already satisfied, skipping upgrade: pytz>=2011k in /usr/local/lib/python3.6/dist-packages (from pandas) (2018.9)\n",
            "Requirement already satisfied, skipping upgrade: python-dateutil>=2.5.0 in /usr/local/lib/python3.6/dist-packages (from pandas) (2.5.3)\n",
            "Requirement already satisfied, skipping upgrade: six>=1.5 in /usr/local/lib/python3.6/dist-packages (from python-dateutil>=2.5.0->pandas) (1.11.0)\n",
            "Requirement already up-to-date: tensorflow in /usr/local/lib/python3.6/dist-packages (1.13.1)\n",
            "Requirement already satisfied, skipping upgrade: gast>=0.2.0 in /usr/local/lib/python3.6/dist-packages (from tensorflow) (0.2.2)\n",
            "Requirement already satisfied, skipping upgrade: tensorboard<1.14.0,>=1.13.0 in /usr/local/lib/python3.6/dist-packages (from tensorflow) (1.13.1)\n",
            "Requirement already satisfied, skipping upgrade: wheel>=0.26 in /usr/local/lib/python3.6/dist-packages (from tensorflow) (0.33.1)\n",
            "Requirement already satisfied, skipping upgrade: keras-applications>=1.0.6 in /usr/local/lib/python3.6/dist-packages (from tensorflow) (1.0.7)\n",
            "Requirement already satisfied, skipping upgrade: absl-py>=0.1.6 in /usr/local/lib/python3.6/dist-packages (from tensorflow) (0.7.1)\n",
            "Requirement already satisfied, skipping upgrade: grpcio>=1.8.6 in /usr/local/lib/python3.6/dist-packages (from tensorflow) (1.15.0)\n",
            "Requirement already satisfied, skipping upgrade: termcolor>=1.1.0 in /usr/local/lib/python3.6/dist-packages (from tensorflow) (1.1.0)\n",
            "Requirement already satisfied, skipping upgrade: astor>=0.6.0 in /usr/local/lib/python3.6/dist-packages (from tensorflow) (0.7.1)\n",
            "Requirement already satisfied, skipping upgrade: tensorflow-estimator<1.14.0rc0,>=1.13.0 in /usr/local/lib/python3.6/dist-packages (from tensorflow) (1.13.0)\n",
            "Requirement already satisfied, skipping upgrade: six>=1.10.0 in /usr/local/lib/python3.6/dist-packages (from tensorflow) (1.11.0)\n",
            "Requirement already satisfied, skipping upgrade: protobuf>=3.6.1 in /usr/local/lib/python3.6/dist-packages (from tensorflow) (3.7.0)\n",
            "Requirement already satisfied, skipping upgrade: numpy>=1.13.3 in /usr/local/lib/python3.6/dist-packages (from tensorflow) (1.16.2)\n",
            "Requirement already satisfied, skipping upgrade: keras-preprocessing>=1.0.5 in /usr/local/lib/python3.6/dist-packages (from tensorflow) (1.0.9)\n",
            "Requirement already satisfied, skipping upgrade: werkzeug>=0.11.15 in /usr/local/lib/python3.6/dist-packages (from tensorboard<1.14.0,>=1.13.0->tensorflow) (0.14.1)\n",
            "Requirement already satisfied, skipping upgrade: markdown>=2.6.8 in /usr/local/lib/python3.6/dist-packages (from tensorboard<1.14.0,>=1.13.0->tensorflow) (3.0.1)\n",
            "Requirement already satisfied, skipping upgrade: h5py in /usr/local/lib/python3.6/dist-packages (from keras-applications>=1.0.6->tensorflow) (2.8.0)\n",
            "Requirement already satisfied, skipping upgrade: mock>=2.0.0 in /usr/local/lib/python3.6/dist-packages (from tensorflow-estimator<1.14.0rc0,>=1.13.0->tensorflow) (2.0.0)\n",
            "Requirement already satisfied, skipping upgrade: setuptools in /usr/local/lib/python3.6/dist-packages (from protobuf>=3.6.1->tensorflow) (40.8.0)\n",
            "Requirement already satisfied, skipping upgrade: pbr>=0.11 in /usr/local/lib/python3.6/dist-packages (from mock>=2.0.0->tensorflow-estimator<1.14.0rc0,>=1.13.0->tensorflow) (5.1.3)\n",
            "Requirement already up-to-date: keras in /usr/local/lib/python3.6/dist-packages (2.2.4)\n",
            "Requirement already satisfied, skipping upgrade: h5py in /usr/local/lib/python3.6/dist-packages (from keras) (2.8.0)\n",
            "Requirement already satisfied, skipping upgrade: keras-preprocessing>=1.0.5 in /usr/local/lib/python3.6/dist-packages (from keras) (1.0.9)\n",
            "Requirement already satisfied, skipping upgrade: pyyaml in /usr/local/lib/python3.6/dist-packages (from keras) (3.13)\n",
            "Requirement already satisfied, skipping upgrade: scipy>=0.14 in /usr/local/lib/python3.6/dist-packages (from keras) (1.1.0)\n",
            "Requirement already satisfied, skipping upgrade: numpy>=1.9.1 in /usr/local/lib/python3.6/dist-packages (from keras) (1.16.2)\n",
            "Requirement already satisfied, skipping upgrade: keras-applications>=1.0.6 in /usr/local/lib/python3.6/dist-packages (from keras) (1.0.7)\n",
            "Requirement already satisfied, skipping upgrade: six>=1.9.0 in /usr/local/lib/python3.6/dist-packages (from keras) (1.11.0)\n"
          ],
          "name": "stdout"
        }
      ]
    },
    {
      "metadata": {
        "id": "JJdf86p8lmgs",
        "colab_type": "code",
        "colab": {}
      },
      "cell_type": "code",
      "source": [
        "import numpy as np\n",
        "import pandas as pd\n",
        "import matplotlib.pyplot as plt"
      ],
      "execution_count": 0,
      "outputs": []
    },
    {
      "metadata": {
        "id": "mHWvCfBNl8RR",
        "colab_type": "code",
        "outputId": "df2d39a3-87c2-4e57-c549-4f4a5f3dc544",
        "colab": {
          "base_uri": "https://localhost:8080/",
          "height": 126
        }
      },
      "cell_type": "code",
      "source": [
        "# command line command to fetch the dataset from a public GitHub repository, puts it in the folder 'recommender-systems'\n",
        "!git clone https://github.com/John-Curcio/recommender-systems"
      ],
      "execution_count": 0,
      "outputs": [
        {
          "output_type": "stream",
          "text": [
            "Cloning into 'recommender-systems'...\n",
            "remote: Enumerating objects: 21, done.\u001b[K\n",
            "remote: Counting objects: 100% (21/21), done.\u001b[K\n",
            "remote: Compressing objects: 100% (18/18), done.\u001b[K\n",
            "remote: Total 21 (delta 2), reused 21 (delta 2), pack-reused 0\u001b[K\n",
            "Unpacking objects: 100% (21/21), done.\n"
          ],
          "name": "stdout"
        }
      ]
    },
    {
      "metadata": {
        "id": "cyh8SLyQmI3j",
        "colab_type": "code",
        "outputId": "31e4fc3a-cbf3-4221-c6ac-2a9ae21458ad",
        "colab": {
          "base_uri": "https://localhost:8080/",
          "height": 72
        }
      },
      "cell_type": "code",
      "source": [
        "import os\n",
        "\n",
        "print(os.listdir())\n",
        "print(os.listdir(\"recommender-systems\"))\n",
        "print(os.listdir(\"recommender-systems/netflix-sub\"))"
      ],
      "execution_count": 0,
      "outputs": [
        {
          "output_type": "stream",
          "text": [
            "['.config', 'recommender-systems', 'sample_data']\n",
            "['.git', 'netflix-sub', 'README.md']\n",
            "['README', 'movie_titles.txt', 'TrainingRatings.txt', 'TestingRatings.txt', 'description.txt']\n"
          ],
          "name": "stdout"
        }
      ]
    },
    {
      "metadata": {
        "id": "3Wdc1m1jmch8",
        "colab_type": "code",
        "colab": {}
      },
      "cell_type": "code",
      "source": [
        "# import the data, format it nicely, do some cleaning\n",
        "# data is formatted without column names, and you gotta match up movie Titles \n",
        "# with MovieIds, so this lets you skip that headache\n",
        "titles_df = pd.read_csv(\"recommender-systems/netflix-sub/movie_titles.txt\", \n",
        "                        names=[\"MovieID\", \"YearOfRelease\", \"Title\"], \n",
        "                        encoding=\"latin\")\n",
        "# When we're training our model, using the entire dataset leads to RAM issues with Colab\n",
        "# So we take a subset of the movie titles\n",
        "titles_df = titles_df.sample(frac=0.6, random_state=0) \n",
        "\n",
        "train_df = pd.read_csv(\"recommender-systems/netflix-sub/TrainingRatings.txt\", \n",
        "                       names=[\"MovieID\", \"UserID\", \"Rating\"], \n",
        "                       encoding=\"latin\")\n",
        "train_df = pd.merge(train_df, titles_df, how=\"right\", on=\"MovieID\")\n",
        "\n",
        "test_df = pd.read_csv(\"recommender-systems/netflix-sub/TestingRatings.txt\", \n",
        "                      names=[\"MovieID\", \"UserID\", \"Rating\"], \n",
        "                      encoding=\"latin\")\n",
        "test_df = pd.merge(test_df, titles_df, how=\"right\", on=\"MovieID\")\n",
        "\n",
        "# Dropping rows that have missing values for MovieID, UserID, or Rating\n",
        "# They are conceivably useful, but that's beyond the scope of this workshop\n",
        "train_df.dropna(how=\"any\", inplace=True) \n",
        "test_df.dropna(how=\"any\", inplace=True) "
      ],
      "execution_count": 0,
      "outputs": []
    },
    {
      "metadata": {
        "id": "2sFvfAdfrxHI",
        "colab_type": "code",
        "outputId": "4c186f4b-0cf0-4270-9746-d2a82891140d",
        "colab": {
          "base_uri": "https://localhost:8080/",
          "height": 216
        }
      },
      "cell_type": "code",
      "source": [
        "print(train_df.shape)\n",
        "train_df.head()"
      ],
      "execution_count": 0,
      "outputs": [
        {
          "output_type": "stream",
          "text": [
            "(2018753, 5)\n"
          ],
          "name": "stdout"
        },
        {
          "output_type": "execute_result",
          "data": {
            "text/html": [
              "<div>\n",
              "<style scoped>\n",
              "    .dataframe tbody tr th:only-of-type {\n",
              "        vertical-align: middle;\n",
              "    }\n",
              "\n",
              "    .dataframe tbody tr th {\n",
              "        vertical-align: top;\n",
              "    }\n",
              "\n",
              "    .dataframe thead th {\n",
              "        text-align: right;\n",
              "    }\n",
              "</style>\n",
              "<table border=\"1\" class=\"dataframe\">\n",
              "  <thead>\n",
              "    <tr style=\"text-align: right;\">\n",
              "      <th></th>\n",
              "      <th>MovieID</th>\n",
              "      <th>UserID</th>\n",
              "      <th>Rating</th>\n",
              "      <th>YearOfRelease</th>\n",
              "      <th>Title</th>\n",
              "    </tr>\n",
              "  </thead>\n",
              "  <tbody>\n",
              "    <tr>\n",
              "      <th>0</th>\n",
              "      <td>8</td>\n",
              "      <td>1744889.0</td>\n",
              "      <td>1.0</td>\n",
              "      <td>2004.0</td>\n",
              "      <td>What the #$*! Do We Know!?</td>\n",
              "    </tr>\n",
              "    <tr>\n",
              "      <th>1</th>\n",
              "      <td>8</td>\n",
              "      <td>1395430.0</td>\n",
              "      <td>2.0</td>\n",
              "      <td>2004.0</td>\n",
              "      <td>What the #$*! Do We Know!?</td>\n",
              "    </tr>\n",
              "    <tr>\n",
              "      <th>2</th>\n",
              "      <td>8</td>\n",
              "      <td>1205593.0</td>\n",
              "      <td>4.0</td>\n",
              "      <td>2004.0</td>\n",
              "      <td>What the #$*! Do We Know!?</td>\n",
              "    </tr>\n",
              "    <tr>\n",
              "      <th>3</th>\n",
              "      <td>8</td>\n",
              "      <td>1488844.0</td>\n",
              "      <td>4.0</td>\n",
              "      <td>2004.0</td>\n",
              "      <td>What the #$*! Do We Know!?</td>\n",
              "    </tr>\n",
              "    <tr>\n",
              "      <th>4</th>\n",
              "      <td>8</td>\n",
              "      <td>1447354.0</td>\n",
              "      <td>1.0</td>\n",
              "      <td>2004.0</td>\n",
              "      <td>What the #$*! Do We Know!?</td>\n",
              "    </tr>\n",
              "  </tbody>\n",
              "</table>\n",
              "</div>"
            ],
            "text/plain": [
              "   MovieID     UserID  Rating  YearOfRelease                       Title\n",
              "0        8  1744889.0     1.0         2004.0  What the #$*! Do We Know!?\n",
              "1        8  1395430.0     2.0         2004.0  What the #$*! Do We Know!?\n",
              "2        8  1205593.0     4.0         2004.0  What the #$*! Do We Know!?\n",
              "3        8  1488844.0     4.0         2004.0  What the #$*! Do We Know!?\n",
              "4        8  1447354.0     1.0         2004.0  What the #$*! Do We Know!?"
            ]
          },
          "metadata": {
            "tags": []
          },
          "execution_count": 42
        }
      ]
    },
    {
      "metadata": {
        "id": "AT7gUu-yrym4",
        "colab_type": "code",
        "outputId": "10dafc1f-39b2-44bb-8f04-517449ecea5a",
        "colab": {
          "base_uri": "https://localhost:8080/",
          "height": 216
        }
      },
      "cell_type": "code",
      "source": [
        "print(test_df.shape)\n",
        "test_df.head()"
      ],
      "execution_count": 0,
      "outputs": [
        {
          "output_type": "stream",
          "text": [
            "(62245, 5)\n"
          ],
          "name": "stdout"
        },
        {
          "output_type": "execute_result",
          "data": {
            "text/html": [
              "<div>\n",
              "<style scoped>\n",
              "    .dataframe tbody tr th:only-of-type {\n",
              "        vertical-align: middle;\n",
              "    }\n",
              "\n",
              "    .dataframe tbody tr th {\n",
              "        vertical-align: top;\n",
              "    }\n",
              "\n",
              "    .dataframe thead th {\n",
              "        text-align: right;\n",
              "    }\n",
              "</style>\n",
              "<table border=\"1\" class=\"dataframe\">\n",
              "  <thead>\n",
              "    <tr style=\"text-align: right;\">\n",
              "      <th></th>\n",
              "      <th>MovieID</th>\n",
              "      <th>UserID</th>\n",
              "      <th>Rating</th>\n",
              "      <th>YearOfRelease</th>\n",
              "      <th>Title</th>\n",
              "    </tr>\n",
              "  </thead>\n",
              "  <tbody>\n",
              "    <tr>\n",
              "      <th>0</th>\n",
              "      <td>8</td>\n",
              "      <td>573364.0</td>\n",
              "      <td>1.0</td>\n",
              "      <td>2004.0</td>\n",
              "      <td>What the #$*! Do We Know!?</td>\n",
              "    </tr>\n",
              "    <tr>\n",
              "      <th>1</th>\n",
              "      <td>8</td>\n",
              "      <td>2149668.0</td>\n",
              "      <td>3.0</td>\n",
              "      <td>2004.0</td>\n",
              "      <td>What the #$*! Do We Know!?</td>\n",
              "    </tr>\n",
              "    <tr>\n",
              "      <th>2</th>\n",
              "      <td>8</td>\n",
              "      <td>1089184.0</td>\n",
              "      <td>3.0</td>\n",
              "      <td>2004.0</td>\n",
              "      <td>What the #$*! Do We Know!?</td>\n",
              "    </tr>\n",
              "    <tr>\n",
              "      <th>3</th>\n",
              "      <td>8</td>\n",
              "      <td>2465894.0</td>\n",
              "      <td>3.0</td>\n",
              "      <td>2004.0</td>\n",
              "      <td>What the #$*! Do We Know!?</td>\n",
              "    </tr>\n",
              "    <tr>\n",
              "      <th>4</th>\n",
              "      <td>8</td>\n",
              "      <td>534508.0</td>\n",
              "      <td>1.0</td>\n",
              "      <td>2004.0</td>\n",
              "      <td>What the #$*! Do We Know!?</td>\n",
              "    </tr>\n",
              "  </tbody>\n",
              "</table>\n",
              "</div>"
            ],
            "text/plain": [
              "   MovieID     UserID  Rating  YearOfRelease                       Title\n",
              "0        8   573364.0     1.0         2004.0  What the #$*! Do We Know!?\n",
              "1        8  2149668.0     3.0         2004.0  What the #$*! Do We Know!?\n",
              "2        8  1089184.0     3.0         2004.0  What the #$*! Do We Know!?\n",
              "3        8  2465894.0     3.0         2004.0  What the #$*! Do We Know!?\n",
              "4        8   534508.0     1.0         2004.0  What the #$*! Do We Know!?"
            ]
          },
          "metadata": {
            "tags": []
          },
          "execution_count": 43
        }
      ]
    },
    {
      "metadata": {
        "id": "OLVNu8igtM2m",
        "colab_type": "text"
      },
      "cell_type": "markdown",
      "source": [
        "It'd be kind of silly if \"What the #$*! Do We Know!?\" was the only movie that Netflix had in its inventory.\n",
        "\n",
        "A Pandas DataFrame can be thought of as a dictionary of lists, all of the same length. You can access a column by feeding in its string name, and access rows like you would a list. There's a ton of additional functionality, but we'll introduce that on a need-to-know basis."
      ]
    },
    {
      "metadata": {
        "id": "yJG6SgEJupyv",
        "colab_type": "code",
        "outputId": "4f119d59-c0df-451a-c2af-f4cb1c0b4939",
        "colab": {
          "base_uri": "https://localhost:8080/",
          "height": 399
        }
      },
      "cell_type": "code",
      "source": [
        "# Show how to index columns and rows of a dataframe"
      ],
      "execution_count": 0,
      "outputs": [
        {
          "output_type": "execute_result",
          "data": {
            "text/plain": [
              "0     What the #$*! Do We Know!?\n",
              "1     What the #$*! Do We Know!?\n",
              "2     What the #$*! Do We Know!?\n",
              "3     What the #$*! Do We Know!?\n",
              "4     What the #$*! Do We Know!?\n",
              "5     What the #$*! Do We Know!?\n",
              "6     What the #$*! Do We Know!?\n",
              "7     What the #$*! Do We Know!?\n",
              "8     What the #$*! Do We Know!?\n",
              "9     What the #$*! Do We Know!?\n",
              "10    What the #$*! Do We Know!?\n",
              "11    What the #$*! Do We Know!?\n",
              "12    What the #$*! Do We Know!?\n",
              "13    What the #$*! Do We Know!?\n",
              "14    What the #$*! Do We Know!?\n",
              "15    What the #$*! Do We Know!?\n",
              "16    What the #$*! Do We Know!?\n",
              "17    What the #$*! Do We Know!?\n",
              "18    What the #$*! Do We Know!?\n",
              "19    What the #$*! Do We Know!?\n",
              "Name: Title, dtype: object"
            ]
          },
          "metadata": {
            "tags": []
          },
          "execution_count": 35
        }
      ]
    },
    {
      "metadata": {
        "id": "vLaxahQbyjOU",
        "colab_type": "text"
      },
      "cell_type": "markdown",
      "source": [
        "Root mean square error:\n",
        "\n",
        "$$\n",
        "RMSE = \\sqrt{\\frac{1}{n} \\sum_{i=1}^n (y_i - \\hat{y_i})^2}\n",
        "$$\n",
        "\n",
        "It's a (biased) estimator of $\\sqrt{\\mathbb{E} [(y - \\hat{y})^2]}$, which is the standard error."
      ]
    },
    {
      "metadata": {
        "id": "Lfr-TXpEm9IH",
        "colab_type": "code",
        "colab": {}
      },
      "cell_type": "code",
      "source": [
        "def rmse(y_pred, y_true):\n",
        "  \"\"\"\n",
        "  y_pred: array-like of n predicted values\n",
        "  y_true: array-like of n true values\n",
        "  returns rmse\n",
        "  \"\"\"\n",
        "  # fill me in! \n",
        "  return 0"
      ],
      "execution_count": 0,
      "outputs": []
    },
    {
      "metadata": {
        "id": "n9OKkaay8gw_",
        "colab_type": "code",
        "outputId": "913a4430-5587-4d5c-b0ac-d0a4fbc15b2d",
        "colab": {
          "base_uri": "https://localhost:8080/",
          "height": 35
        }
      },
      "cell_type": "code",
      "source": [
        ""
      ],
      "execution_count": 0,
      "outputs": [
        {
          "output_type": "execute_result",
          "data": {
            "text/plain": [
              "3.5153840019061273"
            ]
          },
          "metadata": {
            "tags": []
          },
          "execution_count": 54
        }
      ]
    },
    {
      "metadata": {
        "id": "OOLEiJQN8l3y",
        "colab_type": "code",
        "outputId": "4d5a942c-7c7d-49cd-8244-1d55fbb76227",
        "colab": {
          "base_uri": "https://localhost:8080/",
          "height": 35
        }
      },
      "cell_type": "code",
      "source": [
        ""
      ],
      "execution_count": 0,
      "outputs": [
        {
          "output_type": "execute_result",
          "data": {
            "text/plain": [
              "3.5153840019061273"
            ]
          },
          "metadata": {
            "tags": []
          },
          "execution_count": 55
        }
      ]
    },
    {
      "metadata": {
        "id": "-wRUe6cXsaze",
        "colab_type": "code",
        "outputId": "85a367ab-65aa-4f2a-fb9d-d0ef788b6213",
        "colab": {
          "base_uri": "https://localhost:8080/",
          "height": 35
        }
      },
      "cell_type": "code",
      "source": [
        "# dumb classifier\n",
        "y_pred = None # what's the simplest classifier you can think of?\n",
        "rmse(y_pred, test_df[\"Rating\"])"
      ],
      "execution_count": 0,
      "outputs": [
        {
          "output_type": "execute_result",
          "data": {
            "text/plain": [
              "1.0842602869280995"
            ]
          },
          "metadata": {
            "tags": []
          },
          "execution_count": 56
        }
      ]
    },
    {
      "metadata": {
        "id": "r4WIsBt58whQ",
        "colab_type": "code",
        "outputId": "85f21d8c-3a21-4d9a-df4f-3d3198949bdf",
        "colab": {
          "base_uri": "https://localhost:8080/",
          "height": 347
        }
      },
      "cell_type": "code",
      "source": [
        "plt.hist(train_df[\"Rating\"])\n",
        "plt.show()"
      ],
      "execution_count": 0,
      "outputs": [
        {
          "output_type": "display_data",
          "data": {
            "image/png": "[encoded data removed]",
            "text/plain": [
              "<Figure size 576x396 with 1 Axes>"
            ]
          },
          "metadata": {
            "tags": []
          }
        }
      ]
    },
    {
      "metadata": {
        "id": "NTDBso_t8_q6",
        "colab_type": "code",
        "colab": {}
      },
      "cell_type": "code",
      "source": [
        "test_df[\"Rating\"] - pd.Series(y_pred)"
      ],
      "execution_count": 0,
      "outputs": []
    },
    {
      "metadata": {
        "id": "8x5sNl-t9FYP",
        "colab_type": "code",
        "outputId": "58c1041f-434f-4e45-bdf1-e8a6070d0d6b",
        "colab": {
          "base_uri": "https://localhost:8080/",
          "height": 347
        }
      },
      "cell_type": "code",
      "source": [
        "plt.hist(test_df[\"Rating\"] - pd.Series(y_pred))\n",
        "plt.show()"
      ],
      "execution_count": 0,
      "outputs": [
        {
          "output_type": "display_data",
          "data": {
            "image/png": "[encoded data removed]",
            "text/plain": [
              "<Figure size 576x396 with 1 Axes>"
            ]
          },
          "metadata": {
            "tags": []
          }
        }
      ]
    },
    {
      "metadata": {
        "id": "RntrH1PpBEk8",
        "colab_type": "code",
        "colab": {}
      },
      "cell_type": "code",
      "source": [
        "# VERY inefficient code to find average rating for a given movie\n",
        "# godfather_rating = 0.0\n",
        "# n_ratings = 0\n",
        "# for i in range(len(movie_data_train)):\n",
        "#   if movie_data_train[\"Title\"][i] == \"The Godfather\":\n",
        "#     n_ratings += 1\n",
        "#     godfather_rating += movie_data_train[\"Rating\"][i]\n",
        "# godfather_rating / n_ratings"
      ],
      "execution_count": 0,
      "outputs": []
    },
    {
      "metadata": {
        "id": "wKyZljefBJXb",
        "colab_type": "code",
        "colab": {}
      },
      "cell_type": "code",
      "source": [
        "# more efficient! Same Big-O, obv\n",
        "godfather_inds = movie_data_train[\"Title\"] == \"The Godfather\" # comparing every value in the series to \"The Godfather\"\n",
        "godfather_ratings = movie_data_train[\"Rating\"][godfather_inds] # pandas supports boolean indexing\n",
        "godfather_ratings.mean() "
      ],
      "execution_count": 0,
      "outputs": []
    },
    {
      "metadata": {
        "id": "gkcKmLz52289",
        "colab_type": "code",
        "colab": {}
      },
      "cell_type": "code",
      "source": [
        "# this is super optimized - don't need to know how to do this\n",
        "mean_ratings = train_df.groupby('Title')['Rating'].mean()\n",
        "mean_ratings"
      ],
      "execution_count": 0,
      "outputs": []
    },
    {
      "metadata": {
        "id": "-4yhXz473HRG",
        "colab_type": "code",
        "outputId": "ae9315cf-ca0e-4f98-96e5-adba190b3b12",
        "colab": {
          "base_uri": "https://localhost:8080/",
          "height": 35
        }
      },
      "cell_type": "code",
      "source": [
        "mean_ratings[\"The Godfather\"]"
      ],
      "execution_count": 0,
      "outputs": [
        {
          "output_type": "execute_result",
          "data": {
            "text/plain": [
              "4.464598134454594"
            ]
          },
          "metadata": {
            "tags": []
          },
          "execution_count": 73
        }
      ]
    },
    {
      "metadata": {
        "id": "U1eJg19S9zTf",
        "colab_type": "code",
        "outputId": "1d1de501-3d20-4c95-fc15-41b5072e545a",
        "colab": {
          "base_uri": "https://localhost:8080/",
          "height": 35
        }
      },
      "cell_type": "code",
      "source": [
        "mean_ratings[\"Bad Boys II\"]"
      ],
      "execution_count": 0,
      "outputs": [
        {
          "output_type": "execute_result",
          "data": {
            "text/plain": [
              "3.3705926481620403"
            ]
          },
          "metadata": {
            "tags": []
          },
          "execution_count": 77
        }
      ]
    },
    {
      "metadata": {
        "id": "k04Avy98920W",
        "colab_type": "code",
        "colab": {}
      },
      "cell_type": "code",
      "source": [
        ""
      ],
      "execution_count": 0,
      "outputs": []
    },
    {
      "metadata": {
        "id": "0jfuqZ7n3D5V",
        "colab_type": "code",
        "outputId": "202a7eeb-d657-4a9e-94bb-d6b3ed6b9090",
        "colab": {
          "base_uri": "https://localhost:8080/",
          "height": 35
        }
      },
      "cell_type": "code",
      "source": [
        "# you can index a named pd.Series by the title name\n",
        "y_pred = [mean_ratings[curr_title] for curr_title in test_df[\"Title\"]]\n",
        "rmse(y_pred, test_df[\"Rating\"])"
      ],
      "execution_count": 0,
      "outputs": [
        {
          "output_type": "execute_result",
          "data": {
            "text/plain": [
              "1.0018057530431572"
            ]
          },
          "metadata": {
            "tags": []
          },
          "execution_count": 99
        }
      ]
    },
    {
      "metadata": {
        "id": "6ATeh6Xt4ZRY",
        "colab_type": "text"
      },
      "cell_type": "markdown",
      "source": [
        "Note that the RMSE got reduced only a little. In fact, the winning solution had an RMSE of $0.8567$. We should wind up with something around $0.95$ by the end of this workshop."
      ]
    },
    {
      "metadata": {
        "id": "VrSoGmk_3W49",
        "colab_type": "code",
        "outputId": "6e4c9dd0-7fb9-416e-fc4c-4ec329c08d0e",
        "colab": {
          "base_uri": "https://localhost:8080/",
          "height": 217
        }
      },
      "cell_type": "code",
      "source": [
        "train_df[\"Title\"].value_counts()[0:10]"
      ],
      "execution_count": 0,
      "outputs": [
        {
          "output_type": "execute_result",
          "data": {
            "text/plain": [
              "Ferris Bueller's Day Off         25468\n",
              "Pretty Woman                     24393\n",
              "Rain Man                         23525\n",
              "Seven                            23005\n",
              "The Italian Job                  22565\n",
              "The Incredibles                  21209\n",
              "National Lampoon's Vacation      20997\n",
              "Air Force One                    20902\n",
              "The Godfather                    20691\n",
              "Terminator 2: Extreme Edition    20646\n",
              "Name: Title, dtype: int64"
            ]
          },
          "metadata": {
            "tags": []
          },
          "execution_count": 104
        }
      ]
    },
    {
      "metadata": {
        "id": "yZYH1KW4CO5k",
        "colab_type": "code",
        "outputId": "c85382bd-16aa-4bbe-dc26-47fb7840dadf",
        "colab": {
          "base_uri": "https://localhost:8080/",
          "height": 347
        }
      },
      "cell_type": "code",
      "source": [
        "n_users = len(set(train_df[\"UserID\"]))\n",
        "rating_freq = train_df[\"Title\"].value_counts() / n_users\n",
        "plt.hist(rating_freq, bins=50)\n",
        "plt.show()"
      ],
      "execution_count": 0,
      "outputs": [
        {
          "output_type": "display_data",
          "data": {
            "image/png": "[encoded data removed]",
            "text/plain": [
              "<Figure size 576x396 with 1 Axes>"
            ]
          },
          "metadata": {
            "tags": []
          }
        }
      ]
    },
    {
      "metadata": {
        "id": "B6mbJTrCLClo",
        "colab_type": "text"
      },
      "cell_type": "markdown",
      "source": [
        "# Math\n",
        "\n",
        "We can think of our dataset as noisy random samples from a very large matrix $V$ of ratings. We have $n$ users, and the $m$ movies, so $V_{i,j}$ corresponds to user $i$'s rating of movie $j$.\n",
        "\n",
        "![image_of_sparse_matrix](https://i.imgur.com/LoTi958.png)\n",
        "\n",
        "We can think of our task here as uncovering some *latent structure* in the matrix $V$, and using that to fill in the missing values with our best guesses for the missing ratings. \n",
        "\n",
        "Suppose we had a feature for each movie, describing how much *romance* the movie had (we don't, but let's pretend we did). Like on a scale from *Borat* to *Gone With The Wind*, or maybe *Teenage Catgirls in Heat*. \n",
        "\n",
        "Some people love that sort of thing, some people find it icky. Additionally, we don't know beforehand whether a user likes romance or not. But if we had that feature, we could infer the user's preferences pretty easily - it's just a slope coefficient fit through linear regression.\n",
        "\n",
        "Let's walk through an example (on the chalkboard, I assume).\n",
        "\n"
      ]
    },
    {
      "metadata": {
        "id": "Jwq3U7ZAbNEy",
        "colab_type": "text"
      },
      "cell_type": "markdown",
      "source": [
        "# The Trick\n",
        "\n",
        "So by this point in the workshop, we worked through some examples of how we'd predict ratings if we had an embedding for genre, or an embedding for user preferences, and it wound up being just linear regression. \n",
        "\n",
        "The trick here is to learn the embeddings through *gradient descent*.\n",
        "\n",
        "# Gradient Descent\n",
        "\n",
        "You'll probably learn about gradient descent in a class like 10-315 or maybe 36-402. The idea is that you want your model to minimize your loss function (in this case RMSE). The gradient of loss with respect to a certain model parameter gives you the direction of steepest ascent of the loss, and opposite that is the direction of steepest descent. So you take the gradient of your loss with respect to a certain parameter in your model and move that parameter in the opposite direction slightly. \n",
        "\n",
        "If the loss function is convex with respect to the parameter, and the loss function has a minimum, then this algorithm will converge to the global minimum, i.e. you'll wind up with the optimal set of parameters given your data. \n",
        "\n",
        "The backpropagation algorithm, which is what we use to train neural networks, is a special case of this.\n",
        "\n",
        "![image_for_gradient_descent](http://rasbt.github.io/mlxtend/user_guide/general_concepts/gradient-optimization_files/ball.png)\n",
        "\n",
        "However, optimizing neural networks is a decidely non-convex problem, and it turns out that this isn't either. Gradient descent will get us to a set of parameters that is locally optimal, but possibly not globally!\n",
        "\n",
        "# Keras\n",
        "\n",
        "Since neural network libraries offer a lot of functionality for gradient descent and gradient descent-inspired optimizations, and since you might be interested in implementing a neural network at some point in the future, we're going to use a neural network library to build our model and fit it.\n",
        "\n",
        "[Keras](https://keras.io/) is an open-source, high-level Python neural network library. It basically provides a nice interface between more granular libraries like [TensorFlow](https://www.tensorflow.org/), or [Theano](http://www.deeplearning.net/software/theano/). But Keras is fantastic for rapid experimentation and application.\n",
        "\n",
        "We're going to leave the gradient descent optimization up to Keras here. "
      ]
    },
    {
      "metadata": {
        "id": "zImABVpElk1J",
        "colab_type": "code",
        "outputId": "8192da94-119e-4b7d-ed3b-6153ee0a5fad",
        "colab": {
          "base_uri": "https://localhost:8080/",
          "height": 35
        }
      },
      "cell_type": "code",
      "source": [
        "from keras.layers import Input, Embedding, Reshape, Dot, Dense\n",
        "from keras.models import Model\n",
        "from keras import regularizers\n",
        "from keras import initializers"
      ],
      "execution_count": 0,
      "outputs": [
        {
          "output_type": "stream",
          "text": [
            "Using TensorFlow backend.\n"
          ],
          "name": "stderr"
        }
      ]
    },
    {
      "metadata": {
        "id": "p-L0C3j9oXYB",
        "colab_type": "text"
      },
      "cell_type": "markdown",
      "source": [
        "For now, we'll just go with the romance thing - assume there's one feature and one preference."
      ]
    },
    {
      "metadata": {
        "id": "or1KgRqtqHO_",
        "colab_type": "code",
        "colab": {}
      },
      "cell_type": "code",
      "source": [
        "n_users = len(set(train_df[\"UserID\"]))\n",
        "n_movies = len(set(train_df[\"MovieID\"]))"
      ],
      "execution_count": 0,
      "outputs": []
    },
    {
      "metadata": {
        "id": "ROTVY5URq8dI",
        "colab_type": "code",
        "outputId": "cb675aa1-f7a2-46a9-9a8a-cdee7ec9f13c",
        "colab": {
          "base_uri": "https://localhost:8080/",
          "height": 35
        }
      },
      "cell_type": "code",
      "source": [
        "n_movies"
      ],
      "execution_count": 0,
      "outputs": [
        {
          "output_type": "execute_result",
          "data": {
            "text/plain": [
              "1150"
            ]
          },
          "metadata": {
            "tags": []
          },
          "execution_count": 133
        }
      ]
    },
    {
      "metadata": {
        "id": "DWocxOJofIdj",
        "colab_type": "code",
        "colab": {}
      },
      "cell_type": "code",
      "source": [
        "##### Create model #######\n",
        "\n",
        "# Set input layers\n",
        "user_id_input = Input(shape=[1])\n",
        "movie_id_input = Input(shape=[1])\n",
        "\n",
        "# Create embedding layers for users and movies\n",
        "user_embedding = Embedding(output_dim=1, # We're only learning a single 'preference'\n",
        "                           input_dim=n_users, # Can have up to 28978 users who've rated a movie\n",
        "                           input_length=1)(user_id_input) # Take a single user id as input\n",
        "\n",
        "movie_embedding = Embedding(output_dim=1, # We're only learning a single 'genre'\n",
        "                            input_dim=n_movies, # Can have up to 1150 movies that the user has seen\n",
        "                            input_length=1)(movie_id_input) # Take a single movie ID as input\n",
        "\n",
        "# Reshape the embedding layers for straightforward multiplication\n",
        "user_embedding = Reshape([1])(user_embedding)\n",
        "movie_embedding = Reshape([1])(movie_embedding)\n",
        "\n",
        "# Compute dot-product of embedding layers for our prediction\n",
        "# Since this is are scalars, this is just multiplication\n",
        "output = Dot(1, normalize=False)([user_embedding, movie_embedding]) "
      ],
      "execution_count": 0,
      "outputs": []
    },
    {
      "metadata": {
        "id": "j76RUmY1snxL",
        "colab_type": "text"
      },
      "cell_type": "markdown",
      "source": [
        ""
      ]
    },
    {
      "metadata": {
        "id": "M7uwIg04pmoo",
        "colab_type": "code",
        "colab": {}
      },
      "cell_type": "code",
      "source": [
        "# Keras embedding layer is a little finicky with what it accepts as input\n",
        "# have to use integer indices corresponding to the user and movie\n",
        "\n",
        "# list(enumerate ([a, b, c,...])) --> [(0, a), (1, b), (2, c), ...]\n",
        "user_id_mapping =  {uid:i for i, uid in enumerate(set(train_df[\"UserID\"]))}\n",
        "movie_id_mapping = {mid:i for i, mid in enumerate(set(train_df[\"Title\"]))}\n",
        "\n",
        "train_user_data = [user_id_mapping[uid] for uid in train_df[\"UserID\"]]\n",
        "test_user_data  = [user_id_mapping[uid] for uid in test_df[\"UserID\"]]\n",
        "\n",
        "train_movie_data = [movie_id_mapping[mid] for mid in train_df[\"Title\"]]\n",
        "test_movie_data  = [movie_id_mapping[mid] for mid in test_df[\"Title\"]]\n",
        "\n",
        "\n",
        "# train_user_data = train_df[\"UserID\"].map(user_id_mapping)\n",
        "# train_movie_data = train_df[\"Title\"].map(movie_id_mapping)\n",
        "\n",
        "# test_user_data = test_df[\"UserID\"].map(user_id_mapping)\n",
        "# test_movie_data = test_df[\"Title\"].map(movie_id_mapping)"
      ],
      "execution_count": 0,
      "outputs": []
    },
    {
      "metadata": {
        "id": "Y3i_At3Pr6tP",
        "colab_type": "code",
        "colab": {}
      },
      "cell_type": "code",
      "source": [
        "model = Model(inputs=[user_id_input, movie_id_input], outputs=output)\n",
        "model.compile(loss='mse', optimizer='adam')"
      ],
      "execution_count": 0,
      "outputs": []
    },
    {
      "metadata": {
        "id": "KjKjEzEatzKF",
        "colab_type": "code",
        "outputId": "27060290-cb34-4bf4-99c5-6e77a83ef31a",
        "colab": {
          "base_uri": "https://localhost:8080/",
          "height": 417
        }
      },
      "cell_type": "code",
      "source": [
        "model.summary()"
      ],
      "execution_count": 0,
      "outputs": [
        {
          "output_type": "stream",
          "text": [
            "__________________________________________________________________________________________________\n",
            "Layer (type)                    Output Shape         Param #     Connected to                     \n",
            "==================================================================================================\n",
            "input_5 (InputLayer)            (None, 1)            0                                            \n",
            "__________________________________________________________________________________________________\n",
            "input_6 (InputLayer)            (None, 1)            0                                            \n",
            "__________________________________________________________________________________________________\n",
            "embedding_5 (Embedding)         (None, 1, 1)         28978       input_5[0][0]                    \n",
            "__________________________________________________________________________________________________\n",
            "embedding_6 (Embedding)         (None, 1, 1)         1150        input_6[0][0]                    \n",
            "__________________________________________________________________________________________________\n",
            "reshape_3 (Reshape)             (None, 1)            0           embedding_5[0][0]                \n",
            "__________________________________________________________________________________________________\n",
            "reshape_4 (Reshape)             (None, 1)            0           embedding_6[0][0]                \n",
            "__________________________________________________________________________________________________\n",
            "dot_3 (Dot)                     (None, 1)            0           reshape_3[0][0]                  \n",
            "                                                                 reshape_4[0][0]                  \n",
            "==================================================================================================\n",
            "Total params: 30,128\n",
            "Trainable params: 30,128\n",
            "Non-trainable params: 0\n",
            "__________________________________________________________________________________________________\n"
          ],
          "name": "stdout"
        }
      ]
    },
    {
      "metadata": {
        "id": "G9-wtuwwtYQM",
        "colab_type": "code",
        "outputId": "d6916d2f-cc39-483c-d2d6-560173440e23",
        "colab": {
          "base_uri": "https://localhost:8080/",
          "height": 163
        }
      },
      "cell_type": "code",
      "source": [
        "history = model.fit([train_user_data, train_movie_data],\n",
        "                    train_df['Rating'].values,\n",
        "                    batch_size=256, \n",
        "                    epochs=4,\n",
        "                    shuffle=True)"
      ],
      "execution_count": 0,
      "outputs": [
        {
          "output_type": "stream",
          "text": [
            "Epoch 1/4\n",
            "2018753/2018753 [==============================] - 11s 5us/step - loss: 7.1676\n",
            "Epoch 2/4\n",
            "2018753/2018753 [==============================] - 11s 5us/step - loss: 1.1855\n",
            "Epoch 3/4\n",
            "2018753/2018753 [==============================] - 11s 5us/step - loss: 0.9076\n",
            "Epoch 4/4\n",
            "2018753/2018753 [==============================] - 11s 5us/step - loss: 0.8491\n"
          ],
          "name": "stdout"
        }
      ]
    },
    {
      "metadata": {
        "id": "mvAkwnwmvgMZ",
        "colab_type": "code",
        "outputId": "8ec77ff8-9cef-4720-8d73-efa7c9bc821d",
        "colab": {
          "base_uri": "https://localhost:8080/",
          "height": 90
        }
      },
      "cell_type": "code",
      "source": [
        "history.history"
      ],
      "execution_count": 0,
      "outputs": [
        {
          "output_type": "execute_result",
          "data": {
            "text/plain": [
              "{'loss': [7.25784668825726,\n",
              "  1.1915492843820095,\n",
              "  0.9082539127351261,\n",
              "  0.8494874585384113]}"
            ]
          },
          "metadata": {
            "tags": []
          },
          "execution_count": 164
        }
      ]
    },
    {
      "metadata": {
        "id": "eEX9yuXTwnEE",
        "colab_type": "code",
        "colab": {}
      },
      "cell_type": "code",
      "source": [
        "y_preds = model.predict([test_user_data, test_movie_data])"
      ],
      "execution_count": 0,
      "outputs": []
    },
    {
      "metadata": {
        "id": "qWgS8kBlxzWg",
        "colab_type": "code",
        "outputId": "e1180c50-3504-4482-b7c2-fe59b8cf96e5",
        "colab": {
          "base_uri": "https://localhost:8080/",
          "height": 145
        }
      },
      "cell_type": "code",
      "source": [
        "y_preds"
      ],
      "execution_count": 0,
      "outputs": [
        {
          "output_type": "execute_result",
          "data": {
            "text/plain": [
              "array([[3.1648262],\n",
              "       [2.888313 ],\n",
              "       [2.7280114],\n",
              "       ...,\n",
              "       [2.5735118],\n",
              "       [2.645785 ],\n",
              "       [2.4852772]], dtype=float32)"
            ]
          },
          "metadata": {
            "tags": []
          },
          "execution_count": 173
        }
      ]
    },
    {
      "metadata": {
        "id": "ToMr5tgzynmS",
        "colab_type": "code",
        "outputId": "756e0e25-17e1-4db3-9089-c2a05a653417",
        "colab": {
          "base_uri": "https://localhost:8080/",
          "height": 35
        }
      },
      "cell_type": "code",
      "source": [
        "rmse(y_preds.T[0], test_df[\"Rating\"].values)"
      ],
      "execution_count": 0,
      "outputs": [
        {
          "output_type": "execute_result",
          "data": {
            "text/plain": [
              "0.9222794982468498"
            ]
          },
          "metadata": {
            "tags": []
          },
          "execution_count": 174
        }
      ]
    },
    {
      "metadata": {
        "id": "TMhgqZYPtcpE",
        "colab_type": "text"
      },
      "cell_type": "markdown",
      "source": [
        "# Another thing\n",
        "\n",
        "We're going to subtract the mean of the movie's ratings beforehand."
      ]
    },
    {
      "metadata": {
        "id": "xnAA9HaGy69b",
        "colab_type": "code",
        "colab": {}
      },
      "cell_type": "code",
      "source": [
        "mean_ratings = train_df.groupby('Title')['Rating'].mean()\n",
        "\n",
        "model2 = Model(inputs=[user_id_input, movie_id_input], outputs=output)\n",
        "model2.compile(loss='mse', optimizer='adam')"
      ],
      "execution_count": 0,
      "outputs": []
    },
    {
      "metadata": {
        "id": "6_KyxjPHz7nd",
        "colab_type": "code",
        "colab": {}
      },
      "cell_type": "code",
      "source": [
        "# centered_ratings = [train_df['Rating'].values[i] - mean_ratings[train_df[\"Title\"][i]] for i in range(len(train_df))]\n",
        "centered_ratings = train_df[\"Rating\"].values - train_df[\"Title\"].apply(lambda t: mean_ratings[t])"
      ],
      "execution_count": 0,
      "outputs": []
    },
    {
      "metadata": {
        "id": "rGmbiDgk0uOa",
        "colab_type": "code",
        "outputId": "68f77011-2f6f-4949-f817-58015739bc8b",
        "colab": {
          "base_uri": "https://localhost:8080/",
          "height": 163
        }
      },
      "cell_type": "code",
      "source": [
        "history = model2.fit([train_user_data, train_movie_data],\n",
        "                    centered_ratings,\n",
        "                    batch_size=256, \n",
        "                    epochs=4,\n",
        "                    shuffle=True)"
      ],
      "execution_count": 0,
      "outputs": [
        {
          "output_type": "stream",
          "text": [
            "Epoch 1/4\n",
            "2018753/2018753 [==============================] - 11s 5us/step - loss: 3.9627\n",
            "Epoch 2/4\n",
            "2018753/2018753 [==============================] - 11s 5us/step - loss: 0.9395\n",
            "Epoch 3/4\n",
            "2018753/2018753 [==============================] - 11s 5us/step - loss: 0.8295\n",
            "Epoch 4/4\n",
            "2018753/2018753 [==============================] - 11s 5us/step - loss: 0.7989\n"
          ],
          "name": "stdout"
        }
      ]
    },
    {
      "metadata": {
        "id": "GzKgIRMo1TgA",
        "colab_type": "code",
        "outputId": "3a590949-ebac-4025-9d62-3fc1f761f845",
        "colab": {
          "base_uri": "https://localhost:8080/",
          "height": 35
        }
      },
      "cell_type": "code",
      "source": [
        "y_preds = model2.predict([test_user_data, test_movie_data])\n",
        "y_preds.shape"
      ],
      "execution_count": 0,
      "outputs": [
        {
          "output_type": "execute_result",
          "data": {
            "text/plain": [
              "(62245, 1)"
            ]
          },
          "metadata": {
            "tags": []
          },
          "execution_count": 180
        }
      ]
    },
    {
      "metadata": {
        "id": "iGcul8Gl1X06",
        "colab_type": "code",
        "outputId": "3e5992dc-44a4-4660-a283-c79f41db9d0c",
        "colab": {
          "base_uri": "https://localhost:8080/",
          "height": 35
        }
      },
      "cell_type": "code",
      "source": [
        "rmse(y_preds.T[0] + test_df[\"Title\"].apply(lambda t: mean_ratings[t]), test_df[\"Rating\"].values)"
      ],
      "execution_count": 0,
      "outputs": [
        {
          "output_type": "execute_result",
          "data": {
            "text/plain": [
              "0.9043630003531558"
            ]
          },
          "metadata": {
            "tags": []
          },
          "execution_count": 182
        }
      ]
    },
    {
      "metadata": {
        "id": "q-uhz1xn3dT6",
        "colab_type": "code",
        "colab": {}
      },
      "cell_type": "code",
      "source": [
        ""
      ],
      "execution_count": 0,
      "outputs": []
    },
    {
      "metadata": {
        "id": "x2vkNtUS3tt_",
        "colab_type": "text"
      },
      "cell_type": "markdown",
      "source": [
        "# Multidimensional Embeddings\n",
        "\n",
        "Previously, we only had one genre, and one preference per user. We can easily extend this to $k$ genres and $k$ preferences.\n",
        "\n",
        "![wh_matrix](https://upload.wikimedia.org/wikipedia/commons/f/f9/NMF.png)"
      ]
    },
    {
      "metadata": {
        "id": "LEfKS4O93zcg",
        "colab_type": "code",
        "colab": {}
      },
      "cell_type": "code",
      "source": [
        "n_components = 4\n",
        "\n",
        "##### Create model #######\n",
        "\n",
        "# Set input layers\n",
        "user_id_input = Input(shape=[1])\n",
        "movie_id_input = Input(shape=[1])\n",
        "\n",
        "# Create embedding layers for users and movies\n",
        "user_embedding = Embedding(output_dim=n_components, # Learning preferences for several genres\n",
        "                           input_dim=n_users, # Can have up to 28978 users who've rated a movie\n",
        "                           # embeddings_regularizer=regularizers.l2(0.0001), \n",
        "                           input_length=1)(user_id_input) # Take a single user id as input\n",
        "\n",
        "movie_embedding = Embedding(output_dim=n_components, # Learning several genres at once\n",
        "                            input_dim=n_movies, # Can have up to 1150 movies that the user has seen\n",
        "                            # embeddings_regularizer=regularizers.l2(0.0001), \n",
        "                            input_length=1)(movie_id_input) # Take a single movie ID as input\n",
        "\n",
        "# Reshape the embedding layers for straightforward multiplication\n",
        "user_embedding = Reshape([n_components])(user_embedding)\n",
        "movie_embedding = Reshape([n_components])(movie_embedding)\n",
        "\n",
        "# Compute dot-product of embedding layers for our prediction\n",
        "# Since this is are scalars, this is just multiplication\n",
        "output = Dot(1, normalize=False)([user_embedding, movie_embedding]) "
      ],
      "execution_count": 0,
      "outputs": []
    },
    {
      "metadata": {
        "id": "xZJ_JwA54KDC",
        "colab_type": "code",
        "colab": {}
      },
      "cell_type": "code",
      "source": [
        "model3 = Model(inputs=[user_id_input, movie_id_input], outputs=output)\n",
        "model3.compile(loss='mse', optimizer='adam')"
      ],
      "execution_count": 0,
      "outputs": []
    },
    {
      "metadata": {
        "id": "DETgtHy84O7u",
        "colab_type": "code",
        "outputId": "f506e17d-cb68-43f9-f411-082c36856193",
        "colab": {
          "base_uri": "https://localhost:8080/",
          "height": 163
        }
      },
      "cell_type": "code",
      "source": [
        "history = model3.fit([train_user_data, train_movie_data],\n",
        "                    centered_ratings,\n",
        "                    batch_size=256, \n",
        "                    epochs=4,\n",
        "                    shuffle=True)"
      ],
      "execution_count": 0,
      "outputs": [
        {
          "output_type": "stream",
          "text": [
            "Epoch 1/4\n",
            "2018753/2018753 [==============================] - 25s 12us/step - loss: 0.8802\n",
            "Epoch 2/4\n",
            "2018753/2018753 [==============================] - 24s 12us/step - loss: 0.7606\n",
            "Epoch 3/4\n",
            "2018753/2018753 [==============================] - 24s 12us/step - loss: 0.7362\n",
            "Epoch 4/4\n",
            "2018753/2018753 [==============================] - 25s 12us/step - loss: 0.7210\n"
          ],
          "name": "stdout"
        }
      ]
    },
    {
      "metadata": {
        "id": "yFZE9Sej4WVH",
        "colab_type": "code",
        "outputId": "f495301f-4595-4b47-919a-e522cf2f2bce",
        "colab": {
          "base_uri": "https://localhost:8080/",
          "height": 35
        }
      },
      "cell_type": "code",
      "source": [
        "y_preds = model3.predict([test_user_data, test_movie_data])\n",
        "y_preds.shape"
      ],
      "execution_count": 0,
      "outputs": [
        {
          "output_type": "execute_result",
          "data": {
            "text/plain": [
              "(62245, 1)"
            ]
          },
          "metadata": {
            "tags": []
          },
          "execution_count": 203
        }
      ]
    },
    {
      "metadata": {
        "id": "W_dn5XNv4Z2j",
        "colab_type": "code",
        "outputId": "76edd241-48ef-431a-8580-e9daa1b9aefa",
        "colab": {
          "base_uri": "https://localhost:8080/",
          "height": 35
        }
      },
      "cell_type": "code",
      "source": [
        "rmse(y_preds.T[0] + test_df[\"Title\"].apply(lambda t: mean_ratings[t]), test_df[\"Rating\"].values)"
      ],
      "execution_count": 0,
      "outputs": [
        {
          "output_type": "execute_result",
          "data": {
            "text/plain": [
              "0.8681086605383198"
            ]
          },
          "metadata": {
            "tags": []
          },
          "execution_count": 204
        }
      ]
    },
    {
      "metadata": {
        "id": "r88Ibz0o8BwO",
        "colab_type": "code",
        "colab": {}
      },
      "cell_type": "code",
      "source": [
        ""
      ],
      "execution_count": 0,
      "outputs": []
    },
    {
      "metadata": {
        "id": "8Va16R-9Cku_",
        "colab_type": "text"
      },
      "cell_type": "markdown",
      "source": [
        ""
      ]
    }
  ]
}